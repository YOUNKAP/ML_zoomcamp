{
 "cells": [
  {
   "cell_type": "code",
   "execution_count": 1,
   "id": "9465bdf0-0f5d-4991-bcaf-82b8113779cc",
   "metadata": {},
   "outputs": [],
   "source": [
    "#import\n",
    "import pandas as pd\n",
    "import numpy as np "
   ]
  },
  {
   "cell_type": "markdown",
   "id": "1ccb0226-0861-4536-ab1b-f15fcb058a57",
   "metadata": {},
   "source": [
    "<hr> \n",
    "\n",
    "## **Question 1** : \n",
    "What's the version of NumPy that you installed?"
   ]
  },
  {
   "cell_type": "code",
   "execution_count": 2,
   "id": "15c68bfe-22a5-4332-afa8-7bf9a9f36e71",
   "metadata": {},
   "outputs": [
    {
     "data": {
      "text/plain": [
       "'1.23.2'"
      ]
     },
     "execution_count": 2,
     "metadata": {},
     "output_type": "execute_result"
    }
   ],
   "source": [
    "np.__version__"
   ]
  },
  {
   "cell_type": "markdown",
   "id": "f6e9afe2-04e6-4ba2-aaea-7efc52d47129",
   "metadata": {},
   "source": [
    "<hr> \n",
    "\n",
    "## **Question 2** : \n",
    "How many records are in the dataset?"
   ]
  },
  {
   "cell_type": "code",
   "execution_count": 3,
   "id": "8c62baca-4de1-42a4-b35e-a472e9a9f27f",
   "metadata": {},
   "outputs": [],
   "source": [
    "#Read data\n",
    "df = pd.read_csv(\"data.csv\")"
   ]
  },
  {
   "cell_type": "code",
   "execution_count": 4,
   "id": "7ada9fea-6692-48a6-bdc0-46dab0ba94e0",
   "metadata": {},
   "outputs": [
    {
     "data": {
      "text/plain": [
       "11914"
      ]
     },
     "execution_count": 4,
     "metadata": {},
     "output_type": "execute_result"
    }
   ],
   "source": [
    "#Number of records\n",
    "df.shape[0]"
   ]
  },
  {
   "cell_type": "code",
   "execution_count": 5,
   "id": "213679f2-2a82-4d15-9913-30f5a00709a4",
   "metadata": {},
   "outputs": [],
   "source": [
    "#df.info()"
   ]
  },
  {
   "cell_type": "markdown",
   "id": "190517c9-9f87-4505-b1f2-37c2673fc268",
   "metadata": {},
   "source": [
    "<hr> \n",
    "\n",
    "## **Question 3** : \n",
    "Who are the most frequent car manufacturers (top-3) according to the dataset?"
   ]
  },
  {
   "cell_type": "code",
   "execution_count": 6,
   "id": "7dd331a5-a5c9-4c96-8382-edf3e73cfd7e",
   "metadata": {},
   "outputs": [
    {
     "data": {
      "text/plain": [
       "Chevrolet     1123\n",
       "Ford           881\n",
       "Volkswagen     809\n",
       "Name: Make, dtype: int64"
      ]
     },
     "execution_count": 6,
     "metadata": {},
     "output_type": "execute_result"
    }
   ],
   "source": [
    "#Top 3 most frequent car\n",
    "df[\"Make\"].value_counts().sort_values(ascending=False).head(3)"
   ]
  },
  {
   "cell_type": "markdown",
   "id": "b4b1c4cb-e300-4718-acbd-78a44cc4fd95",
   "metadata": {},
   "source": [
    "<hr> \n",
    "\n",
    "## **Question 4** : \n",
    "What's the number of unique Audi car models in the dataset?"
   ]
  },
  {
   "cell_type": "code",
   "execution_count": 7,
   "id": "5594f0ec-464a-4c8f-8fc4-da56d2073375",
   "metadata": {},
   "outputs": [],
   "source": [
    "#df.columns"
   ]
  },
  {
   "cell_type": "code",
   "execution_count": 8,
   "id": "7e7d6a7a-4148-44a7-a80e-85b7f42c6c44",
   "metadata": {},
   "outputs": [
    {
     "data": {
      "text/plain": [
       "True"
      ]
     },
     "execution_count": 8,
     "metadata": {},
     "output_type": "execute_result"
    }
   ],
   "source": [
    "\"Audi\" in list(df[\"Make\"].unique())"
   ]
  },
  {
   "cell_type": "code",
   "execution_count": 9,
   "id": "cc59d136-3aaf-4627-8372-68e77756eb53",
   "metadata": {},
   "outputs": [],
   "source": [
    "Audi = df[df[\"Make\"] == \"Audi\"]"
   ]
  },
  {
   "cell_type": "code",
   "execution_count": 10,
   "id": "ea4bed28-76a5-44d8-accc-41ec1a40dbdb",
   "metadata": {},
   "outputs": [
    {
     "data": {
      "text/plain": [
       "Make                 328\n",
       "Model                328\n",
       "Year                 328\n",
       "Engine Fuel Type     328\n",
       "Engine HP            328\n",
       "Engine Cylinders     328\n",
       "Transmission Type    328\n",
       "Driven_Wheels        328\n",
       "Number of Doors      328\n",
       "Market Category      328\n",
       "Vehicle Size         328\n",
       "Vehicle Style        328\n",
       "highway MPG          328\n",
       "city mpg             328\n",
       "Popularity           328\n",
       "MSRP                 328\n",
       "dtype: int64"
      ]
     },
     "execution_count": 10,
     "metadata": {},
     "output_type": "execute_result"
    }
   ],
   "source": [
    "Audi.count()"
   ]
  },
  {
   "cell_type": "markdown",
   "id": "07ac3e20-7d35-4406-8c1a-f58bec6f12bc",
   "metadata": {},
   "source": [
    "<hr> \n",
    "\n",
    "## **Question 5** : \n",
    "How many columns in the dataset have missing values?"
   ]
  },
  {
   "cell_type": "code",
   "execution_count": 11,
   "id": "068a71e7-5191-4050-a591-31431864a012",
   "metadata": {},
   "outputs": [
    {
     "data": {
      "text/plain": [
       "Market Category      3742\n",
       "Engine HP              69\n",
       "Engine Cylinders       30\n",
       "Number of Doors         6\n",
       "Engine Fuel Type        3\n",
       "Make                    0\n",
       "Model                   0\n",
       "Year                    0\n",
       "Transmission Type       0\n",
       "Driven_Wheels           0\n",
       "Vehicle Size            0\n",
       "Vehicle Style           0\n",
       "highway MPG             0\n",
       "city mpg                0\n",
       "Popularity              0\n",
       "MSRP                    0\n",
       "dtype: int64"
      ]
     },
     "execution_count": 11,
     "metadata": {},
     "output_type": "execute_result"
    }
   ],
   "source": [
    "df.isnull().sum().sort_values(ascending=False)"
   ]
  },
  {
   "cell_type": "markdown",
   "id": "9a2e1ebf-0b59-465e-980b-7e99b92b9248",
   "metadata": {},
   "source": [
    "<hr> \n",
    "\n",
    "## **Question 6** : \n",
    "\n",
    "Now, calculate the median value of \"Engine Cylinders\" once again."
   ]
  },
  {
   "cell_type": "code",
   "execution_count": 12,
   "id": "b7adef62-5c4e-4509-b08a-6aed43c0bd23",
   "metadata": {},
   "outputs": [
    {
     "data": {
      "text/plain": [
       "6.0"
      ]
     },
     "execution_count": 12,
     "metadata": {},
     "output_type": "execute_result"
    }
   ],
   "source": [
    "#Find the median value of \"Engine Cylinders\" column in the dataset.\n",
    "impute_value = df[\"Engine Cylinders\"].median()\n",
    "impute_value"
   ]
  },
  {
   "cell_type": "code",
   "execution_count": 13,
   "id": "06faef16-a1bb-4c30-9f44-f24c85280371",
   "metadata": {},
   "outputs": [],
   "source": [
    "#Use the fillna method to fill the missing values in \"Engine Cylinders\" with the most frequent value from the previous step.\n",
    "df[\"Engine Cylinders\"] = df[\"Engine Cylinders\"].fillna(impute_value)"
   ]
  },
  {
   "cell_type": "code",
   "execution_count": 14,
   "id": "5f93eeb3-161e-48d9-9142-fc376bd44a8a",
   "metadata": {},
   "outputs": [
    {
     "data": {
      "text/plain": [
       "6.0"
      ]
     },
     "execution_count": 14,
     "metadata": {},
     "output_type": "execute_result"
    }
   ],
   "source": [
    "#Find the median value of \"Engine Cylinders\" column in the dataset.\n",
    "impute_value = df[\"Engine Cylinders\"].median()\n",
    "impute_value"
   ]
  },
  {
   "cell_type": "markdown",
   "id": "965e7976-4eb7-430d-b2b8-3a4a1ac162d6",
   "metadata": {},
   "source": [
    "<hr> \n",
    "\n",
    "## **Question 7** : "
   ]
  },
  {
   "cell_type": "code",
   "execution_count": 15,
   "id": "2942e009",
   "metadata": {},
   "outputs": [
    {
     "data": {
      "text/plain": [
       "Index(['Make', 'Model', 'Year', 'Engine Fuel Type', 'Engine HP',\n",
       "       'Engine Cylinders', 'Transmission Type', 'Driven_Wheels',\n",
       "       'Number of Doors', 'Market Category', 'Vehicle Size', 'Vehicle Style',\n",
       "       'highway MPG', 'city mpg', 'Popularity', 'MSRP'],\n",
       "      dtype='object')"
      ]
     },
     "execution_count": 15,
     "metadata": {},
     "output_type": "execute_result"
    }
   ],
   "source": [
    "df.columns"
   ]
  },
  {
   "cell_type": "code",
   "execution_count": 16,
   "id": "c50925b5",
   "metadata": {},
   "outputs": [
    {
     "data": {
      "text/plain": [
       "RangeIndex(start=0, stop=11914, step=1)"
      ]
     },
     "execution_count": 16,
     "metadata": {},
     "output_type": "execute_result"
    }
   ],
   "source": [
    "df.index"
   ]
  },
  {
   "cell_type": "code",
   "execution_count": 17,
   "id": "0cb0f35c",
   "metadata": {},
   "outputs": [],
   "source": [
    "lotus = df[df[\"Make\"] == \"Lotus\"]"
   ]
  },
  {
   "cell_type": "code",
   "execution_count": 21,
   "id": "165066ae",
   "metadata": {},
   "outputs": [
    {
     "data": {
      "text/plain": [
       "array([29])"
      ]
     },
     "execution_count": 21,
     "metadata": {},
     "output_type": "execute_result"
    }
   ],
   "source": [
    "lotus.count().unique()"
   ]
  },
  {
   "cell_type": "code",
   "execution_count": 15,
   "id": "98632b7c-d6c9-45c6-98cc-71bdb2527da6",
   "metadata": {},
   "outputs": [],
   "source": [
    "#Select all the \"Lotus\" cars from the dataset.\n",
    "lotus = df[df[\"Make\"] == \"Lotus\"]"
   ]
  },
  {
   "cell_type": "code",
   "execution_count": 25,
   "id": "4b6cadeb-eb94-40e4-b903-1d10aca4e909",
   "metadata": {},
   "outputs": [],
   "source": [
    "#Select only columns \"Engine HP\", \"Engine Cylinders\".\n",
    "Engine_HP = df[\"Engine HP\"] \n",
    "Engine_Cylinders = df[\"Engine Cylinders\"] "
   ]
  },
  {
   "cell_type": "code",
   "execution_count": 26,
   "id": "94b1cbd4-56fa-4ee1-b888-1331c47f7acc",
   "metadata": {},
   "outputs": [],
   "source": [
    "#Now drop all duplicated rows using drop_duplicates method (you should get a dataframe with 9 rows).\n",
    "df_duplicate_cleaned = df.drop_duplicates(keep=False)"
   ]
  },
  {
   "cell_type": "code",
   "execution_count": 27,
   "id": "0b606673",
   "metadata": {},
   "outputs": [
    {
     "data": {
      "text/plain": [
       "Index(['Make', 'Model', 'Year', 'Engine Fuel Type', 'Engine HP',\n",
       "       'Engine Cylinders', 'Transmission Type', 'Driven_Wheels',\n",
       "       'Number of Doors', 'Market Category', 'Vehicle Size', 'Vehicle Style',\n",
       "       'highway MPG', 'city mpg', 'Popularity', 'MSRP'],\n",
       "      dtype='object')"
      ]
     },
     "execution_count": 27,
     "metadata": {},
     "output_type": "execute_result"
    }
   ],
   "source": [
    "df_duplicate_cleaned.columns"
   ]
  },
  {
   "cell_type": "code",
   "execution_count": 32,
   "id": "45a078b1",
   "metadata": {},
   "outputs": [
    {
     "data": {
      "text/plain": [
       "(10582, 16)"
      ]
     },
     "execution_count": 32,
     "metadata": {},
     "output_type": "execute_result"
    }
   ],
   "source": [
    "df_duplicate_cleaned.shape"
   ]
  },
  {
   "cell_type": "code",
   "execution_count": null,
   "id": "3388f598",
   "metadata": {},
   "outputs": [],
   "source": []
  },
  {
   "cell_type": "code",
   "execution_count": 18,
   "id": "6e2bdaf6-f5c9-4fdc-a51c-48e7388cd321",
   "metadata": {},
   "outputs": [],
   "source": [
    "#Get the underlying NumPy array. Let's call it X.\n"
   ]
  },
  {
   "cell_type": "code",
   "execution_count": null,
   "id": "41b5d7b5",
   "metadata": {},
   "outputs": [],
   "source": []
  },
  {
   "cell_type": "code",
   "execution_count": 19,
   "id": "09ea85cb-8e62-4443-81d4-902fc4f4aebf",
   "metadata": {},
   "outputs": [],
   "source": [
    "#Compute matrix-matrix multiplication between the transpose of X and X. To get the transpose,\n",
    "#use X.T. Let's call the result XTX. Invert XTX.\n"
   ]
  },
  {
   "cell_type": "code",
   "execution_count": 20,
   "id": "a68f72c8-03de-4641-b47d-09936f7ae469",
   "metadata": {},
   "outputs": [],
   "source": [
    "#Create an array y with values [1100, 800, 750, 850, 1300, 1000, 1000, 1300, 800].\n"
   ]
  },
  {
   "cell_type": "code",
   "execution_count": 21,
   "id": "a7715c45-eabd-40de-9493-f3bd459cde90",
   "metadata": {},
   "outputs": [],
   "source": [
    "#Multiply the inverse of XTX with the transpose of X, and then multiply the result by y. Call the result w.\n"
   ]
  },
  {
   "cell_type": "code",
   "execution_count": 22,
   "id": "095bbfce-b1fa-4ce5-b1b3-31768ad4f02e",
   "metadata": {},
   "outputs": [],
   "source": [
    "#What's the value of the first element of w?"
   ]
  },
  {
   "cell_type": "code",
   "execution_count": null,
   "id": "917e9b56-edbe-483a-88aa-6a98cb210e64",
   "metadata": {},
   "outputs": [],
   "source": []
  },
  {
   "cell_type": "code",
   "execution_count": null,
   "id": "fe219da0",
   "metadata": {},
   "outputs": [],
   "source": []
  }
 ],
 "metadata": {
  "kernelspec": {
   "display_name": "Python 3 (ipykernel)",
   "language": "python",
   "name": "python3"
  },
  "language_info": {
   "codemirror_mode": {
    "name": "ipython",
    "version": 3
   },
   "file_extension": ".py",
   "mimetype": "text/x-python",
   "name": "python",
   "nbconvert_exporter": "python",
   "pygments_lexer": "ipython3",
   "version": "3.9.13"
  }
 },
 "nbformat": 4,
 "nbformat_minor": 5
}
