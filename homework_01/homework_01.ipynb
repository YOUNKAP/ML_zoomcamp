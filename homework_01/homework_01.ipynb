{
 "cells": [
  {
   "cell_type": "code",
   "execution_count": 43,
   "id": "9465bdf0-0f5d-4991-bcaf-82b8113779cc",
   "metadata": {},
   "outputs": [],
   "source": [
    "#import\n",
    "import pandas as pd\n",
    "import numpy as np \n",
    "import seaborn as sns"
   ]
  },
  {
   "cell_type": "markdown",
   "id": "1ccb0226-0861-4536-ab1b-f15fcb058a57",
   "metadata": {},
   "source": [
    "<hr> \n",
    "\n",
    "## **Question 1** : \n",
    "What's the version of NumPy that you installed?"
   ]
  },
  {
   "cell_type": "code",
   "execution_count": 44,
   "id": "15c68bfe-22a5-4332-afa8-7bf9a9f36e71",
   "metadata": {},
   "outputs": [
    {
     "data": {
      "text/plain": [
       "'1.23.2'"
      ]
     },
     "execution_count": 44,
     "metadata": {},
     "output_type": "execute_result"
    }
   ],
   "source": [
    "np.__version__"
   ]
  },
  {
   "cell_type": "markdown",
   "id": "f6e9afe2-04e6-4ba2-aaea-7efc52d47129",
   "metadata": {},
   "source": [
    "<hr> \n",
    "\n",
    "## **Question 2** : \n",
    "How many records are in the dataset?"
   ]
  },
  {
   "cell_type": "code",
   "execution_count": 45,
   "id": "8c62baca-4de1-42a4-b35e-a472e9a9f27f",
   "metadata": {},
   "outputs": [],
   "source": [
    "#Read data\n",
    "df = pd.read_csv(\"data.csv\")"
   ]
  },
  {
   "cell_type": "code",
   "execution_count": 46,
   "id": "7ada9fea-6692-48a6-bdc0-46dab0ba94e0",
   "metadata": {},
   "outputs": [
    {
     "data": {
      "text/plain": [
       "11914"
      ]
     },
     "execution_count": 46,
     "metadata": {},
     "output_type": "execute_result"
    }
   ],
   "source": [
    "#Number of records\n",
    "df.shape[0]"
   ]
  },
  {
   "cell_type": "code",
   "execution_count": 47,
   "id": "213679f2-2a82-4d15-9913-30f5a00709a4",
   "metadata": {},
   "outputs": [],
   "source": [
    "#df.info()"
   ]
  },
  {
   "cell_type": "markdown",
   "id": "190517c9-9f87-4505-b1f2-37c2673fc268",
   "metadata": {},
   "source": [
    "<hr> \n",
    "\n",
    "## **Question 3** : \n",
    "Who are the most frequent car manufacturers (top-3) according to the dataset?"
   ]
  },
  {
   "cell_type": "code",
   "execution_count": 48,
   "id": "7dd331a5-a5c9-4c96-8382-edf3e73cfd7e",
   "metadata": {},
   "outputs": [
    {
     "data": {
      "text/plain": [
       "Chevrolet     1123\n",
       "Ford           881\n",
       "Volkswagen     809\n",
       "Name: Make, dtype: int64"
      ]
     },
     "execution_count": 48,
     "metadata": {},
     "output_type": "execute_result"
    }
   ],
   "source": [
    "#Top 3 most frequent car\n",
    "df[\"Make\"].value_counts().sort_values(ascending=False).head(3)"
   ]
  },
  {
   "cell_type": "markdown",
   "id": "b4b1c4cb-e300-4718-acbd-78a44cc4fd95",
   "metadata": {},
   "source": [
    "<hr> \n",
    "\n",
    "## **Question 4** : \n",
    "What's the number of unique Audi car models in the dataset?"
   ]
  },
  {
   "cell_type": "code",
   "execution_count": 49,
   "id": "5594f0ec-464a-4c8f-8fc4-da56d2073375",
   "metadata": {},
   "outputs": [],
   "source": [
    "#df.columns"
   ]
  },
  {
   "cell_type": "code",
   "execution_count": 59,
   "id": "7e7d6a7a-4148-44a7-a80e-85b7f42c6c44",
   "metadata": {},
   "outputs": [
    {
     "data": {
      "text/plain": [
       "True"
      ]
     },
     "execution_count": 59,
     "metadata": {},
     "output_type": "execute_result"
    }
   ],
   "source": [
    "\"Audi\" in list(df[\"Make\"].unique())"
   ]
  },
  {
   "cell_type": "code",
   "execution_count": 60,
   "id": "cc59d136-3aaf-4627-8372-68e77756eb53",
   "metadata": {},
   "outputs": [],
   "source": [
    "Audi = df[df[\"Make\"] == \"Audi\"].nunique()"
   ]
  },
  {
   "cell_type": "code",
   "execution_count": 61,
   "id": "fd593068",
   "metadata": {},
   "outputs": [
    {
     "data": {
      "text/plain": [
       "(16,)"
      ]
     },
     "execution_count": 61,
     "metadata": {},
     "output_type": "execute_result"
    }
   ],
   "source": [
    "Audi.shape"
   ]
  },
  {
   "cell_type": "markdown",
   "id": "07ac3e20-7d35-4406-8c1a-f58bec6f12bc",
   "metadata": {},
   "source": [
    "<hr> \n",
    "\n",
    "## **Question 5** : \n",
    "How many columns in the dataset have missing values?"
   ]
  },
  {
   "cell_type": "code",
   "execution_count": 52,
   "id": "1b87d6fc",
   "metadata": {},
   "outputs": [
    {
     "data": {
      "text/plain": [
       "Market Category      3742\n",
       "Engine HP              69\n",
       "Engine Cylinders       30\n",
       "Number of Doors         6\n",
       "Engine Fuel Type        3\n",
       "Make                    0\n",
       "Model                   0\n",
       "Year                    0\n",
       "Transmission Type       0\n",
       "Driven_Wheels           0\n",
       "Vehicle Size            0\n",
       "Vehicle Style           0\n",
       "highway MPG             0\n",
       "city mpg                0\n",
       "Popularity              0\n",
       "MSRP                    0\n",
       "dtype: int64"
      ]
     },
     "execution_count": 52,
     "metadata": {},
     "output_type": "execute_result"
    }
   ],
   "source": [
    "df.isna().sum().sort_values(ascending=False)"
   ]
  },
  {
   "cell_type": "code",
   "execution_count": 54,
   "id": "068a71e7-5191-4050-a591-31431864a012",
   "metadata": {},
   "outputs": [
    {
     "data": {
      "text/plain": [
       "<AxesSubplot:xlabel='index'>"
      ]
     },
     "execution_count": 54,
     "metadata": {},
     "output_type": "execute_result"
    },
    {
     "data": {
      "image/png": "[encoded data removed]",
      "text/plain": [
       "<Figure size 640x480 with 1 Axes>"
      ]
     },
     "metadata": {},
     "output_type": "display_data"
    }
   ],
   "source": [
    "df.isna().sum().reset_index(name=\"n\").plot.bar(x='index', y='n', rot=45)"
   ]
  },
  {
   "cell_type": "markdown",
   "id": "9a2e1ebf-0b59-465e-980b-7e99b92b9248",
   "metadata": {},
   "source": [
    "<hr> \n",
    "\n",
    "## **Question 6** : \n",
    "\n",
    "Now, calculate the median value of \"Engine Cylinders\" once again."
   ]
  },
  {
   "cell_type": "code",
   "execution_count": 55,
   "id": "b7adef62-5c4e-4509-b08a-6aed43c0bd23",
   "metadata": {},
   "outputs": [
    {
     "data": {
      "text/plain": [
       "6.0"
      ]
     },
     "execution_count": 55,
     "metadata": {},
     "output_type": "execute_result"
    }
   ],
   "source": [
    "#Find the median value of \"Engine Cylinders\" column in the dataset.\n",
    "impute_value = df[\"Engine Cylinders\"].median()\n",
    "impute_value"
   ]
  },
  {
   "cell_type": "code",
   "execution_count": 56,
   "id": "06faef16-a1bb-4c30-9f44-f24c85280371",
   "metadata": {},
   "outputs": [],
   "source": [
    "#Use the fillna method to fill the missing values in \"Engine Cylinders\" with the most frequent value from the previous step.\n",
    "df[\"Engine Cylinders\"] = df[\"Engine Cylinders\"].fillna(impute_value)"
   ]
  },
  {
   "cell_type": "code",
   "execution_count": 57,
   "id": "5f93eeb3-161e-48d9-9142-fc376bd44a8a",
   "metadata": {},
   "outputs": [
    {
     "data": {
      "text/plain": [
       "6.0"
      ]
     },
     "execution_count": 57,
     "metadata": {},
     "output_type": "execute_result"
    }
   ],
   "source": [
    "#Find the median value of \"Engine Cylinders\" column in the dataset.\n",
    "impute_value = df[\"Engine Cylinders\"].median()\n",
    "impute_value"
   ]
  },
  {
   "cell_type": "markdown",
   "id": "965e7976-4eb7-430d-b2b8-3a4a1ac162d6",
   "metadata": {},
   "source": [
    "<hr> \n",
    "\n",
    "## **Question 7** : "
   ]
  },
  {
   "cell_type": "markdown",
   "id": "730139a0",
   "metadata": {},
   "source": [
    "https://sparkbyexamples.com/pandas/pandas-drop-duplicate-rows-from-dataframe/#:~:text=You%20can%20set%20%27keep%3DFalse,drop_duplicates(keep%3DFalse)%20."
   ]
  },
  {
   "cell_type": "code",
   "execution_count": 70,
   "id": "98632b7c-d6c9-45c6-98cc-71bdb2527da6",
   "metadata": {},
   "outputs": [],
   "source": [
    "#Select all the \"Lotus\" cars from the dataset.\n",
    "lotus = df[df[\"Make\"] == \"Lotus\"]"
   ]
  },
  {
   "cell_type": "code",
   "execution_count": 71,
   "id": "4b6cadeb-eb94-40e4-b903-1d10aca4e909",
   "metadata": {},
   "outputs": [],
   "source": [
    "#Select only columns \"Engine HP\", \"Engine Cylinders\".\n",
    "Engine_HP_Cylinders = df[[\"Engine HP\", \"Engine Cylinders\"]] "
   ]
  },
  {
   "cell_type": "code",
   "execution_count": 74,
   "id": "94b1cbd4-56fa-4ee1-b888-1331c47f7acc",
   "metadata": {},
   "outputs": [],
   "source": [
    "#Now drop all duplicated rows using drop_duplicates method (you should get a dataframe with 9 rows).\n",
    "Engine_HP_Cylinders_duplicate_cleaned = df.drop_duplicates()"
   ]
  },
  {
   "cell_type": "code",
   "execution_count": 76,
   "id": "6e2bdaf6-f5c9-4fdc-a51c-48e7388cd321",
   "metadata": {},
   "outputs": [
    {
     "data": {
      "text/plain": [
       "(11199, 16)"
      ]
     },
     "execution_count": 76,
     "metadata": {},
     "output_type": "execute_result"
    }
   ],
   "source": [
    "#Get the underlying NumPy array. Let's call it X.\n",
    "Engine_HP_Cylinders_duplicate_cleaned.shape"
   ]
  },
  {
   "cell_type": "code",
   "execution_count": 19,
   "id": "09ea85cb-8e62-4443-81d4-902fc4f4aebf",
   "metadata": {},
   "outputs": [],
   "source": [
    "#Compute matrix-matrix multiplication between the transpose of X and X. To get the transpose,\n",
    "#use X.T. Let's call the result XTX. Invert XTX.\n"
   ]
  },
  {
   "cell_type": "code",
   "execution_count": 20,
   "id": "a68f72c8-03de-4641-b47d-09936f7ae469",
   "metadata": {},
   "outputs": [],
   "source": [
    "#Create an array y with values [1100, 800, 750, 850, 1300, 1000, 1000, 1300, 800].\n"
   ]
  },
  {
   "cell_type": "code",
   "execution_count": 21,
   "id": "a7715c45-eabd-40de-9493-f3bd459cde90",
   "metadata": {},
   "outputs": [],
   "source": [
    "#Multiply the inverse of XTX with the transpose of X, and then multiply the result by y. Call the result w.\n"
   ]
  },
  {
   "cell_type": "code",
   "execution_count": 22,
   "id": "095bbfce-b1fa-4ce5-b1b3-31768ad4f02e",
   "metadata": {},
   "outputs": [],
   "source": [
    "#What's the value of the first element of w?"
   ]
  }
 ],
 "metadata": {
  "kernelspec": {
   "display_name": "Python 3 (ipykernel)",
   "language": "python",
   "name": "python3"
  },
  "language_info": {
   "codemirror_mode": {
    "name": "ipython",
    "version": 3
   },
   "file_extension": ".py",
   "mimetype": "text/x-python",
   "name": "python",
   "nbconvert_exporter": "python",
   "pygments_lexer": "ipython3",
   "version": "3.9.13"
  }
 },
 "nbformat": 4,
 "nbformat_minor": 5
}
